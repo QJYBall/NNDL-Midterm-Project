{
 "metadata": {
  "language_info": {
   "codemirror_mode": {
    "name": "ipython",
    "version": 3
   },
   "file_extension": ".py",
   "mimetype": "text/x-python",
   "name": "python",
   "nbconvert_exporter": "python",
   "pygments_lexer": "ipython3",
   "version": "3.8.3"
  },
  "orig_nbformat": 2,
  "kernelspec": {
   "name": "python383jvsc74a57bd0a8f61be024eba58adef938c9aa1e29e02cb3dece83a5348b1a2dafd16a070453",
   "display_name": "Python 3.8.3 64-bit (conda)"
  }
 },
 "nbformat": 4,
 "nbformat_minor": 2,
 "cells": [
  {
   "cell_type": "code",
   "execution_count": 6,
   "metadata": {
    "tags": []
   },
   "outputs": [
    {
     "output_type": "execute_result",
     "data": {
      "text/plain": [
       "12031"
      ]
     },
     "metadata": {},
     "execution_count": 6
    }
   ],
   "source": [
    "f = open(\"../data/VOC-aug/list/trainval_aug.txt\",\"r\") \n",
    "lines = f.readlines()\n",
    "\n",
    "pic = []\n",
    "\n",
    "for line in lines:\n",
    "    pic.append(line[12:23])\n",
    "\n",
    "len(pic)"
   ]
  },
  {
   "cell_type": "code",
   "execution_count": 13,
   "metadata": {},
   "outputs": [],
   "source": [
    "from PIL import Image\n",
    "import pandas as pd\n",
    "import os"
   ]
  },
  {
   "cell_type": "code",
   "execution_count": 12,
   "metadata": {},
   "outputs": [
    {
     "output_type": "execute_result",
     "data": {
      "text/plain": [
       "11512"
      ]
     },
     "metadata": {},
     "execution_count": 12
    }
   ],
   "source": [
    "pic_aug = []\n",
    "for i in pic:\n",
    "    img = Image.open(\"../data/VOC-aug/Label/\"+i+\".png\").convert('RGB')\n",
    "    if img.size[0] >= 300 and img.size[1] >= 300:\n",
    "        pic_aug.append(i) \n",
    "len(pic_aug)"
   ]
  },
  {
   "cell_type": "code",
   "execution_count": 14,
   "metadata": {},
   "outputs": [],
   "source": [
    "image = []\n",
    "label = []\n",
    "for i in pic_aug:\n",
    "    image.append(\"../data/VOC/Image/\"+i+\".jpg\")\n",
    "    label.append(\"../data/VOC/Lable/\"+i+\".png\")"
   ]
  },
  {
   "cell_type": "code",
   "execution_count": 16,
   "metadata": {},
   "outputs": [],
   "source": [
    "df = pd.DataFrame({'image':image,'label':label})\n",
    "\n",
    "df_train = df.sample(frac=0.7)\n",
    "df_val_test = df[~df.index.isin(df_train.index)]\n",
    "\n",
    "df_val = df_val_test.sample(frac=0.3)\n",
    "df_test = df_val_test[~df_val_test.index.isin(df_val.index)]\n",
    "\n",
    "df_train.to_csv(\"../data_csv/train.csv\")\n",
    "df_val.to_csv(\"../data_csv/val.csv\")\n",
    "df_test.to_csv(\"../data_csv/test.csv\")\n",
    "\n",
    "# train 7\n",
    "# validation 1\n",
    "# test 2"
   ]
  },
  {
   "cell_type": "code",
   "execution_count": null,
   "metadata": {},
   "outputs": [],
   "source": []
  }
 ]
}